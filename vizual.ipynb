{
 "cells": [
  {
   "cell_type": "code",
   "execution_count": 41,
   "id": "af051879-24a5-4a7b-9dbf-7c57cdfa8555",
   "metadata": {},
   "outputs": [],
   "source": [
    "import matplotlib as plt"
   ]
  },
  {
   "cell_type": "code",
   "execution_count": 43,
   "id": "8c1baa17-d0b4-40f9-8476-36fb0d1011c6",
   "metadata": {},
   "outputs": [],
   "source": [
    "%matplotlib inline\n",
    "def plot_pca_explained_variance_ratio(my_pca):\n",
    "    plt.figure(figsize=(10, 5))\n",
    "    plt.plot(range(1, len(my_pca.get_explained_variance_ratio()) + 1), np.cumsum(my_pca.get_explained_variance_ratio()))\n",
    "    plt.title('Cumulative Explained Variance')\n",
    "    plt.xlabel('Number of Components')\n",
    "    plt.ylabel('Cumulative Explained Variance')\n",
    "    plt.show()"
   ]
  },
  {
   "cell_type": "code",
   "execution_count": 45,
   "id": "57386a8a-f2e5-4797-a057-84ccb012e210",
   "metadata": {},
   "outputs": [],
   "source": [
    "%matplotlib inline\n",
    "def plot_kmeans_clusters(my_kmeans, df):\n",
    "    plt.scatter(df.iloc[:, 0], df.iloc[:, 1], c=my_kmeans.labels_, cmap='viridis')\n",
    "    plt.scatter(my_kmeans.kmeans.cluster_centers_[:, 0], my_kmeans.kmeans.cluster_centers_[:, 1], s=300, c='red')\n",
    "    plt.show()"
   ]
  },
  {
   "cell_type": "code",
   "execution_count": null,
   "id": "e8d37da9-3389-47a1-9703-38ea65484387",
   "metadata": {},
   "outputs": [],
   "source": []
  }
 ],
 "metadata": {
  "kernelspec": {
   "display_name": "Python 3 (ipykernel)",
   "language": "python",
   "name": "python3"
  },
  "language_info": {
   "codemirror_mode": {
    "name": "ipython",
    "version": 3
   },
   "file_extension": ".py",
   "mimetype": "text/x-python",
   "name": "python",
   "nbconvert_exporter": "python",
   "pygments_lexer": "ipython3",
   "version": "3.9.18"
  }
 },
 "nbformat": 4,
 "nbformat_minor": 5
}
